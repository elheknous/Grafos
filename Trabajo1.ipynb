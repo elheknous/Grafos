{
 "cells": [
  {
   "cell_type": "code",
   "execution_count": null,
   "id": "45fc44c7",
   "metadata": {},
   "outputs": [],
   "source": [
    "import numpy as np\n",
    "from itertools import permutations\n",
    "\n",
    "def iso(A,B): \n",
    "    dim = list(A.shape)[0] #Dimensión de la matriz\n",
    "    I = np.eye(dim)\n",
    "    p = list(permutations(np.arange(0,dim)))\n",
    "    encontro = False\n",
    "    for i in range(0,len(p)):\n",
    "        I = I[list(p[i])]\n",
    "        if ((I@A)@I.T == B).all() == True:\n",
    "           encontro = True\n",
    "           print(f\"La matriz de permutación es:\\n {I}\")\n",
    "           return I\n",
    "    if encontro == False:\n",
    "        print(\"No se encontro matriz de permutación\")"
   ]
  },
  {
   "cell_type": "markdown",
   "id": "35150d67",
   "metadata": {},
   "source": [
    "### Ejemplo 1"
   ]
  },
  {
   "cell_type": "code",
   "execution_count": 3,
   "id": "fb4d3345",
   "metadata": {},
   "outputs": [
    {
     "name": "stdout",
     "output_type": "stream",
     "text": [
      "La matriz de permutación es:\n",
      " [[1. 0. 0. 0.]\n",
      " [0. 0. 1. 0.]\n",
      " [0. 0. 0. 1.]\n",
      " [0. 1. 0. 0.]]\n"
     ]
    },
    {
     "data": {
      "text/plain": [
       "array([[1., 0., 0., 0.],\n",
       "       [0., 0., 1., 0.],\n",
       "       [0., 0., 0., 1.],\n",
       "       [0., 1., 0., 0.]])"
      ]
     },
     "execution_count": 3,
     "metadata": {},
     "output_type": "execute_result"
    }
   ],
   "source": [
    "x = np.array([\n",
    "    [0, 1, 0, 0],\n",
    "    [1, 0, 1, 0],\n",
    "    [0, 1, 0, 1],\n",
    "    [0, 0, 1, 0]\n",
    "])\n",
    "z = np.array([\n",
    "    [0, 0, 0, 1],\n",
    "    [0, 0, 1, 1],\n",
    "    [0, 1, 0, 0],\n",
    "    [1, 1, 0, 0]\n",
    "])\n",
    "\n",
    "iso(x,z)"
   ]
  },
  {
   "cell_type": "markdown",
   "id": "d00f9c75",
   "metadata": {},
   "source": [
    "### Ejemplo 2 (Del trabajo)"
   ]
  },
  {
   "cell_type": "code",
   "execution_count": 4,
   "id": "a3fafff5",
   "metadata": {},
   "outputs": [
    {
     "name": "stdout",
     "output_type": "stream",
     "text": [
      "No se encontro matriz de permutación\n"
     ]
    }
   ],
   "source": [
    "U = np.array([\n",
    "    [0, 1, 0, 1, 1, 1, 0, 1],\n",
    "    [0, 0, 1, 0, 1, 1, 1, 0],\n",
    "    [0, 0, 0, 1, 0, 1, 1, 1],\n",
    "    [0, 0, 0, 0, 1, 0, 1, 1],\n",
    "    [0, 0, 0, 0, 0, 1, 0, 1],\n",
    "    [0, 0, 0, 0, 0, 0, 1, 0],\n",
    "    [0, 0, 0, 0, 0, 0, 0, 1],\n",
    "    [0, 0, 0, 0, 0, 0, 0, 0]\n",
    "])\n",
    "U = U + U.T\n",
    "\n",
    "V = np.array([\n",
    "    [0, 1, 1, 0, 1, 0, 1, 1],\n",
    "    [0, 0, 1, 1, 0, 1, 0, 1],\n",
    "    [0, 0, 0, 1, 1, 0, 1, 0],\n",
    "    [0, 0, 0, 0, 1, 1, 0, 1],\n",
    "    [0, 0, 0, 0, 0, 1, 1, 0],\n",
    "    [0, 0, 0, 0, 0, 0, 1, 1],\n",
    "    [0, 0, 0, 0, 0, 0, 0, 1],\n",
    "    [0, 0, 0, 0, 0, 0, 0, 0]\n",
    "])\n",
    "V = V + V.T\n",
    "\n",
    "iso(U,V)\n"
   ]
  }
 ],
 "metadata": {
  "kernelspec": {
   "display_name": "Python 3",
   "language": "python",
   "name": "python3"
  },
  "language_info": {
   "codemirror_mode": {
    "name": "ipython",
    "version": 3
   },
   "file_extension": ".py",
   "mimetype": "text/x-python",
   "name": "python",
   "nbconvert_exporter": "python",
   "pygments_lexer": "ipython3",
   "version": "3.12.3"
  }
 },
 "nbformat": 4,
 "nbformat_minor": 5
}
