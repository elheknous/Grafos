{
 "cells": [
  {
   "cell_type": "code",
   "execution_count": 3,
   "id": "c71ec5a2",
   "metadata": {},
   "outputs": [
    {
     "name": "stdout",
     "output_type": "stream",
     "text": [
      "[(1, 2, 3, 4), (1, 2, 4, 3), (1, 3, 2, 4), (1, 3, 4, 2), (1, 4, 2, 3), (1, 4, 3, 2), (2, 1, 3, 4), (2, 1, 4, 3), (2, 3, 1, 4), (2, 3, 4, 1), (2, 4, 1, 3), (2, 4, 3, 1), (3, 1, 2, 4), (3, 1, 4, 2), (3, 2, 1, 4), (3, 2, 4, 1), (3, 4, 1, 2), (3, 4, 2, 1), (4, 1, 2, 3), (4, 1, 3, 2), (4, 2, 1, 3), (4, 2, 3, 1), (4, 3, 1, 2), (4, 3, 2, 1)]\n"
     ]
    },
    {
     "data": {
      "text/plain": [
       "array([[0, 1, 0],\n",
       "       [1, 0, 1],\n",
       "       [0, 1, 0]])"
      ]
     },
     "execution_count": 3,
     "metadata": {},
     "output_type": "execute_result"
    }
   ],
   "source": [
    "import numpy as np\n",
    "a = np.array([[1,0],[0,1]])\n",
    "a \n",
    "#np.matumul(A,B) multiplica matrices\n",
    "from itertools import permutations\n",
    "p = permutations([1,2,3,4])\n",
    "print(list(p))\n",
    "\n",
    "#EJEMPLO\n",
    "#Se cambian las filas\n",
    "A = np.array([[0,1,0],[1,0,1],[0,1,0]])\n",
    "B = np.array([[0,0,1],[0,0,1],[1,1,0]])\n",
    "p = np.array([[1,0,0],[0,0,1],[0,1,0]])\n",
    "\n",
    "(p@A)@p == B\n",
    "((p@A)@p == B).all()\n",
    "A"
   ]
  },
  {
   "cell_type": "code",
   "execution_count": 4,
   "id": "fcbb8dba",
   "metadata": {},
   "outputs": [
    {
     "name": "stdout",
     "output_type": "stream",
     "text": [
      "La matriz de permutación es:\n",
      " [[1. 0. 0. 0. 0.]\n",
      " [0. 1. 0. 0. 0.]\n",
      " [0. 0. 0. 1. 0.]\n",
      " [0. 0. 1. 0. 0.]\n",
      " [0. 0. 0. 0. 1.]]\n"
     ]
    }
   ],
   "source": [
    "A1 = np.array([\n",
    "    [0,1,1,0,1],\n",
    "    [1,0,0,1,1],\n",
    "    [1,0,0,1,1],\n",
    "    [0,1,1,0,1],\n",
    "    [1,1,1,1,0]\n",
    "])\n",
    "B1 = np.array([\n",
    "    [0,1,0,1,1],\n",
    "    [1,0,1,0,1],\n",
    "    [0,1,0,1,1],\n",
    "    [1,0,1,0,1],\n",
    "    [1,1,1,1,0]\n",
    "])\n",
    "L = iso(A1,B1)"
   ]
  },
  {
   "cell_type": "code",
   "execution_count": 89,
   "id": "94500441",
   "metadata": {},
   "outputs": [
    {
     "data": {
      "text/plain": [
       "array([[ True,  True,  True],\n",
       "       [ True,  True,  True],\n",
       "       [ True,  True,  True]])"
      ]
     },
     "execution_count": 89,
     "metadata": {},
     "output_type": "execute_result"
    }
   ],
   "source": [
    "B2 == P @ A2 @ P.T"
   ]
  },
  {
   "cell_type": "code",
   "execution_count": 5,
   "id": "07b12a72",
   "metadata": {},
   "outputs": [
    {
     "data": {
      "text/plain": [
       "array([[0, 1, 0, 1, 1, 1, 0, 1],\n",
       "       [1, 0, 1, 0, 1, 1, 1, 0],\n",
       "       [0, 1, 0, 1, 0, 1, 1, 1],\n",
       "       [1, 0, 1, 0, 1, 0, 1, 1],\n",
       "       [1, 1, 0, 1, 0, 1, 0, 1],\n",
       "       [1, 1, 1, 0, 1, 0, 1, 0],\n",
       "       [0, 1, 1, 1, 0, 1, 0, 1],\n",
       "       [1, 0, 1, 1, 1, 0, 1, 0]])"
      ]
     },
     "execution_count": 5,
     "metadata": {},
     "output_type": "execute_result"
    }
   ],
   "source": [
    "U = np.array([\n",
    "    [0, 1, 0, 1, 1, 1, 0, 1],\n",
    "    [0, 0, 1, 0, 1, 1, 1, 0],\n",
    "    [0, 0, 0, 1, 0, 1, 1, 1],\n",
    "    [0, 0, 0, 0, 1, 0, 1, 1],\n",
    "    [0, 0, 0, 0, 0, 1, 0, 1],\n",
    "    [0, 0, 0, 0, 0, 0, 1, 0],\n",
    "    [0, 0, 0, 0, 0, 0, 0, 1],\n",
    "    [0, 0, 0, 0, 0, 0, 0, 0]\n",
    "])\n",
    "U = U + U.T\n",
    "U"
   ]
  },
  {
   "cell_type": "code",
   "execution_count": 6,
   "id": "f275f79c",
   "metadata": {},
   "outputs": [
    {
     "data": {
      "text/plain": [
       "array([[0, 1, 1, 0, 1, 0, 1, 1],\n",
       "       [1, 0, 1, 1, 0, 1, 0, 1],\n",
       "       [1, 1, 0, 1, 1, 0, 1, 0],\n",
       "       [0, 1, 1, 0, 1, 1, 0, 1],\n",
       "       [1, 0, 1, 1, 0, 1, 1, 0],\n",
       "       [0, 1, 0, 1, 1, 0, 1, 1],\n",
       "       [1, 0, 1, 0, 1, 1, 0, 1],\n",
       "       [1, 1, 0, 1, 0, 1, 1, 0]])"
      ]
     },
     "execution_count": 6,
     "metadata": {},
     "output_type": "execute_result"
    }
   ],
   "source": [
    "V = np.array([\n",
    "    [0, 1, 1, 0, 1, 0, 1, 1],\n",
    "    [0, 0, 1, 1, 0, 1, 0, 1],\n",
    "    [0, 0, 0, 1, 1, 0, 1, 0],\n",
    "    [0, 0, 0, 0, 1, 1, 0, 1],\n",
    "    [0, 0, 0, 0, 0, 1, 1, 0],\n",
    "    [0, 0, 0, 0, 0, 0, 1, 1],\n",
    "    [0, 0, 0, 0, 0, 0, 0, 1],\n",
    "    [0, 0, 0, 0, 0, 0, 0, 0]\n",
    "])\n",
    "V = V + V.T\n",
    "V"
   ]
  },
  {
   "cell_type": "code",
   "execution_count": 9,
   "id": "cda4ca10",
   "metadata": {},
   "outputs": [
    {
     "name": "stdout",
     "output_type": "stream",
     "text": [
      "False\n"
     ]
    }
   ],
   "source": [
    "import networkx as nx\n",
    "\n",
    "G1 = nx.from_numpy_array(U)\n",
    "G2 = nx.from_numpy_array(V)\n",
    "G1\n",
    "\n",
    "print(nx.is_isomorphic(G1,G2))  # True o False\n"
   ]
  },
  {
   "cell_type": "code",
   "execution_count": 10,
   "id": "26486254",
   "metadata": {},
   "outputs": [
    {
     "name": "stdout",
     "output_type": "stream",
     "text": [
      "No se encontro matriz de permutación\n"
     ]
    }
   ],
   "source": [
    "iso(U,V)"
   ]
  },
  {
   "cell_type": "code",
   "execution_count": 12,
   "id": "d5d95abb",
   "metadata": {},
   "outputs": [],
   "source": [
    "x = np.array([\n",
    "    [0, 1, 0, 0],\n",
    "    [1, 0, 1, 0],\n",
    "    [0, 1, 0, 1],\n",
    "    [0, 0, 1, 0]\n",
    "])\n",
    "z = np.array([\n",
    "    [0, 0, 0, 1],\n",
    "    [0, 0, 1, 1],\n",
    "    [0, 1, 0, 0],\n",
    "    [1, 1, 0, 0]\n",
    "])"
   ]
  },
  {
   "cell_type": "code",
   "execution_count": 7,
   "id": "1c0b4c0a",
   "metadata": {},
   "outputs": [],
   "source": [
    "def iso(A,B): \n",
    "    dim = list(A.shape)[0] #Dimensión de la matriz\n",
    "    I = np.eye(dim)\n",
    "    p = list(permutations(np.arange(0,dim)))\n",
    "    encontro = False\n",
    "    for i in range(0,len(p)):\n",
    "        I = I[list(p[i])]\n",
    "        if ((I@A)@I.T == B).all() == True:\n",
    "           encontro = True\n",
    "           print(f\"La matriz de permutación es:\\n {I}\")\n",
    "           return I\n",
    "    if encontro == False:\n",
    "        print(\"No se encontro matriz de permutación\")\n"
   ]
  },
  {
   "cell_type": "code",
   "execution_count": 13,
   "id": "d0fa11c3",
   "metadata": {},
   "outputs": [
    {
     "name": "stdout",
     "output_type": "stream",
     "text": [
      "La matriz de permutación es:\n",
      " [[1. 0. 0. 0.]\n",
      " [0. 0. 0. 1.]\n",
      " [0. 1. 0. 0.]\n",
      " [0. 0. 1. 0.]]\n"
     ]
    },
    {
     "data": {
      "text/plain": [
       "array([[1., 0., 0., 0.],\n",
       "       [0., 0., 0., 1.],\n",
       "       [0., 1., 0., 0.],\n",
       "       [0., 0., 1., 0.]])"
      ]
     },
     "execution_count": 13,
     "metadata": {},
     "output_type": "execute_result"
    }
   ],
   "source": [
    "iso(z,x)"
   ]
  },
  {
   "cell_type": "code",
   "execution_count": 68,
   "id": "ad8f61ef",
   "metadata": {},
   "outputs": [
    {
     "name": "stdout",
     "output_type": "stream",
     "text": [
      "La matriz de permutación es:\n",
      " [[0. 1. 0.]\n",
      " [1. 0. 0.]\n",
      " [0. 0. 1.]]\n"
     ]
    },
    {
     "data": {
      "text/plain": [
       "array([[0., 1., 0.],\n",
       "       [1., 0., 0.],\n",
       "       [0., 0., 1.]])"
      ]
     },
     "execution_count": 68,
     "metadata": {},
     "output_type": "execute_result"
    }
   ],
   "source": [
    "\n",
    "A2 = np.array([\n",
    "    [0, 1, 1],  # conexiones del nodo 1 con 2 y 3\n",
    "    [1, 0, 0],  # nodo 2 con 1\n",
    "    [1, 0, 0]   # nodo 3 con 1\n",
    "])\n",
    "\n",
    "B2 = np.array([\n",
    "    [0, 1, 0],  # conexiones del nodo a (que es 3) con c (1)\n",
    "    [1, 0, 1],  # nodo c (que es 1) con a (3) y b (2)\n",
    "    [0, 1, 0]   # nodo b (que es 2) con c (1)\n",
    "])\n",
    "iso(A2,B2)"
   ]
  },
  {
   "cell_type": "code",
   "execution_count": 45,
   "id": "11a9515f",
   "metadata": {},
   "outputs": [
    {
     "name": "stdout",
     "output_type": "stream",
     "text": [
      "2\n",
      "0\n",
      "1\n"
     ]
    }
   ],
   "source": [
    "p = list(permutations(np.arange(0,2)))\n",
    "print(len(p))\n",
    "for i in range(0,len(p)):\n",
    "    print(i)\n"
   ]
  },
  {
   "cell_type": "code",
   "execution_count": 56,
   "id": "c239f200",
   "metadata": {},
   "outputs": [
    {
     "name": "stdout",
     "output_type": "stream",
     "text": [
      "La matriz de permutación es:\n",
      " [[1. 0. 0.]\n",
      " [0. 0. 1.]\n",
      " [0. 1. 0.]]\n"
     ]
    }
   ],
   "source": [
    "iso(A,B)"
   ]
  }
 ],
 "metadata": {
  "kernelspec": {
   "display_name": "Python 3",
   "language": "python",
   "name": "python3"
  },
  "language_info": {
   "codemirror_mode": {
    "name": "ipython",
    "version": 3
   },
   "file_extension": ".py",
   "mimetype": "text/x-python",
   "name": "python",
   "nbconvert_exporter": "python",
   "pygments_lexer": "ipython3",
   "version": "3.12.3"
  }
 },
 "nbformat": 4,
 "nbformat_minor": 5
}
