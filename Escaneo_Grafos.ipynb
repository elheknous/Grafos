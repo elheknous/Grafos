{
 "cells": [
  {
   "cell_type": "code",
   "execution_count": 4,
   "id": "1629049b",
   "metadata": {},
   "outputs": [
    {
     "ename": "TypeError",
     "evalue": "'tuple' object is not callable",
     "output_type": "error",
     "traceback": [
      "\u001b[1;31m---------------------------------------------------------------------------\u001b[0m",
      "\u001b[1;31mTypeError\u001b[0m                                 Traceback (most recent call last)",
      "Cell \u001b[1;32mIn[4], line 18\u001b[0m\n\u001b[0;32m     16\u001b[0m \u001b[38;5;28;01mfor\u001b[39;00m e \u001b[38;5;129;01min\u001b[39;00m E:\n\u001b[0;32m     17\u001b[0m     r \u001b[38;5;241m=\u001b[39m \u001b[38;5;241m0\u001b[39m\n\u001b[1;32m---> 18\u001b[0m     \u001b[38;5;28;01mif\u001b[39;00m (q \u001b[38;5;241m==\u001b[39m \u001b[43me\u001b[49m\u001b[43m(\u001b[49m\u001b[38;5;241;43m0\u001b[39;49m\u001b[43m)\u001b[49m) \u001b[38;5;241m&\u001b[39m (e(\u001b[38;5;241m1\u001b[39m) \u001b[38;5;129;01min\u001b[39;00m V\u001b[38;5;241m-\u001b[39mR):\n\u001b[0;32m     19\u001b[0m         r \u001b[38;5;241m=\u001b[39m \u001b[38;5;241m1\u001b[39m\n\u001b[0;32m     20\u001b[0m         Ta\u001b[38;5;241m.\u001b[39madd(e)\n",
      "\u001b[1;31mTypeError\u001b[0m: 'tuple' object is not callable"
     ]
    }
   ],
   "source": [
    "V = [1,2,3,4,5,6,7,8]\n",
    "E = [(1,2),(2,4),(4,3),(3,1),(2,6),(4,8),(7,3),(5,1),(6,5),(5,7),(7,8),(8,6)]\n",
    "\n",
    "# Vertice Inicial\n",
    "s = 1\n",
    "# Inicializamos el Algoritmo\n",
    "T = set()\n",
    "Q = {s}\n",
    "R = {s}\n",
    "\n",
    "while len(Q) > 0:\n",
    "    for q in Q:\n",
    "        Ta = set()\n",
    "        Ra = set()\n",
    "        Qa = set()\n",
    "        for e in E:\n",
    "            r = 0\n",
    "            if (q == e(0)) & (e(1) in V-R):\n",
    "                r = 1\n",
    "                Ta.add(e)\n",
    "                Ra.add(e[1])\n",
    "                Qa.add(e[1])\n",
    "    Q = Q|Qa\n",
    "    T = T|Ta\n",
    "    R = R|Ra\n",
    "    if r == 0:\n",
    "        Q.remove(q)\n",
    "                "
   ]
  },
  {
   "cell_type": "code",
   "execution_count": 7,
   "id": "b60374cc",
   "metadata": {},
   "outputs": [
    {
     "name": "stdout",
     "output_type": "stream",
     "text": [
      "1\n",
      "{1}\n"
     ]
    }
   ],
   "source": [
    "Q\n",
    "for q in Q:\n",
    "    print(q)\n",
    "print(Q)"
   ]
  }
 ],
 "metadata": {
  "kernelspec": {
   "display_name": "Python 3",
   "language": "python",
   "name": "python3"
  },
  "language_info": {
   "codemirror_mode": {
    "name": "ipython",
    "version": 3
   },
   "file_extension": ".py",
   "mimetype": "text/x-python",
   "name": "python",
   "nbconvert_exporter": "python",
   "pygments_lexer": "ipython3",
   "version": "3.12.3"
  }
 },
 "nbformat": 4,
 "nbformat_minor": 5
}
